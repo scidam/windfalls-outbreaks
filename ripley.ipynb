{
 "cells": [
  {
   "cell_type": "markdown",
   "metadata": {},
   "source": [
    "## Importing Basic Modules for Analysis"
   ]
  },
  {
   "cell_type": "code",
   "execution_count": null,
   "metadata": {},
   "outputs": [],
   "source": [
    "import os\n",
    "import numpy as  np\n",
    "import pandas as pd\n",
    "from joblib import load"
   ]
  },
  {
   "cell_type": "code",
   "execution_count": 2,
   "metadata": {},
   "outputs": [
    {
     "data": {
      "text/plain": [
       "'1.2.0'"
      ]
     },
     "execution_count": 2,
     "metadata": {},
     "output_type": "execute_result"
    }
   ],
   "source": [
    "import joblib\n",
    "joblib.__version__"
   ]
  },
  {
   "cell_type": "code",
   "execution_count": 3,
   "metadata": {},
   "outputs": [
    {
     "data": {
      "text/plain": [
       "'1.3.5'"
      ]
     },
     "execution_count": 3,
     "metadata": {},
     "output_type": "execute_result"
    }
   ],
   "source": [
    "pd.__version__"
   ]
  },
  {
   "cell_type": "code",
   "execution_count": null,
   "metadata": {},
   "outputs": [],
   "source": [
    "# This command is used to run R in docker and make all computations\n",
    "#docker run --rm --mount type=bind,src=\"C:\\Users\\ASUS\\Desktop\\shared\\wfallcorr_kunashir\\kripley\",target=/home/jupyteruser -p 8888:8888 rpy2/jupyter:latest"
   ]
  },
  {
   "cell_type": "code",
   "execution_count": 6,
   "metadata": {},
   "outputs": [],
   "source": [
    "data=load(\"bugs_veg_200k.dat\")"
   ]
  },
  {
   "cell_type": "code",
   "execution_count": 7,
   "metadata": {},
   "outputs": [
    {
     "data": {
      "text/html": [
       "<div>\n",
       "<style scoped>\n",
       "    .dataframe tbody tr th:only-of-type {\n",
       "        vertical-align: middle;\n",
       "    }\n",
       "\n",
       "    .dataframe tbody tr th {\n",
       "        vertical-align: top;\n",
       "    }\n",
       "\n",
       "    .dataframe thead th {\n",
       "        text-align: right;\n",
       "    }\n",
       "</style>\n",
       "<table border=\"1\" class=\"dataframe\">\n",
       "  <thead>\n",
       "    <tr style=\"text-align: right;\">\n",
       "      <th></th>\n",
       "      <th>wfall_mask</th>\n",
       "      <th>wfall_area</th>\n",
       "      <th>lats</th>\n",
       "      <th>lons</th>\n",
       "      <th>bugs_mask</th>\n",
       "      <th>bugs_area</th>\n",
       "      <th>aspect</th>\n",
       "      <th>curvature</th>\n",
       "      <th>elevation</th>\n",
       "      <th>morphology</th>\n",
       "      <th>slope</th>\n",
       "      <th>tree_cover</th>\n",
       "      <th>vegetation</th>\n",
       "    </tr>\n",
       "  </thead>\n",
       "  <tbody>\n",
       "    <tr>\n",
       "      <th>0</th>\n",
       "      <td>False</td>\n",
       "      <td>0.0</td>\n",
       "      <td>4.869491e+06</td>\n",
       "      <td>389274.551581</td>\n",
       "      <td>False</td>\n",
       "      <td>0.000000</td>\n",
       "      <td>15.751173</td>\n",
       "      <td>1.9440</td>\n",
       "      <td>91.0</td>\n",
       "      <td>4.0</td>\n",
       "      <td>18.188120</td>\n",
       "      <td>90.0</td>\n",
       "      <td>7.0</td>\n",
       "    </tr>\n",
       "    <tr>\n",
       "      <th>1</th>\n",
       "      <td>False</td>\n",
       "      <td>0.0</td>\n",
       "      <td>4.870436e+06</td>\n",
       "      <td>392102.110644</td>\n",
       "      <td>False</td>\n",
       "      <td>0.000000</td>\n",
       "      <td>119.054604</td>\n",
       "      <td>0.3888</td>\n",
       "      <td>130.0</td>\n",
       "      <td>7.0</td>\n",
       "      <td>2.390084</td>\n",
       "      <td>85.0</td>\n",
       "      <td>7.0</td>\n",
       "    </tr>\n",
       "    <tr>\n",
       "      <th>2</th>\n",
       "      <td>False</td>\n",
       "      <td>0.0</td>\n",
       "      <td>4.870536e+06</td>\n",
       "      <td>394316.944179</td>\n",
       "      <td>True</td>\n",
       "      <td>28.142484</td>\n",
       "      <td>343.610474</td>\n",
       "      <td>0.2592</td>\n",
       "      <td>179.0</td>\n",
       "      <td>5.0</td>\n",
       "      <td>8.176078</td>\n",
       "      <td>90.0</td>\n",
       "      <td>6.0</td>\n",
       "    </tr>\n",
       "    <tr>\n",
       "      <th>3</th>\n",
       "      <td>False</td>\n",
       "      <td>0.0</td>\n",
       "      <td>4.868801e+06</td>\n",
       "      <td>390510.587170</td>\n",
       "      <td>False</td>\n",
       "      <td>0.000000</td>\n",
       "      <td>129.173660</td>\n",
       "      <td>-0.2592</td>\n",
       "      <td>126.0</td>\n",
       "      <td>8.0</td>\n",
       "      <td>15.769171</td>\n",
       "      <td>90.0</td>\n",
       "      <td>7.0</td>\n",
       "    </tr>\n",
       "    <tr>\n",
       "      <th>4</th>\n",
       "      <td>False</td>\n",
       "      <td>0.0</td>\n",
       "      <td>4.873620e+06</td>\n",
       "      <td>397572.368528</td>\n",
       "      <td>False</td>\n",
       "      <td>0.000000</td>\n",
       "      <td>203.198593</td>\n",
       "      <td>-1.0368</td>\n",
       "      <td>139.0</td>\n",
       "      <td>9.0</td>\n",
       "      <td>3.533500</td>\n",
       "      <td>90.0</td>\n",
       "      <td>2.0</td>\n",
       "    </tr>\n",
       "  </tbody>\n",
       "</table>\n",
       "</div>"
      ],
      "text/plain": [
       "   wfall_mask  wfall_area          lats           lons  bugs_mask  bugs_area  \\\n",
       "0       False         0.0  4.869491e+06  389274.551581      False   0.000000   \n",
       "1       False         0.0  4.870436e+06  392102.110644      False   0.000000   \n",
       "2       False         0.0  4.870536e+06  394316.944179       True  28.142484   \n",
       "3       False         0.0  4.868801e+06  390510.587170      False   0.000000   \n",
       "4       False         0.0  4.873620e+06  397572.368528      False   0.000000   \n",
       "\n",
       "       aspect  curvature  elevation  morphology      slope  tree_cover  \\\n",
       "0   15.751173     1.9440       91.0         4.0  18.188120        90.0   \n",
       "1  119.054604     0.3888      130.0         7.0   2.390084        85.0   \n",
       "2  343.610474     0.2592      179.0         5.0   8.176078        90.0   \n",
       "3  129.173660    -0.2592      126.0         8.0  15.769171        90.0   \n",
       "4  203.198593    -1.0368      139.0         9.0   3.533500        90.0   \n",
       "\n",
       "   vegetation  \n",
       "0         7.0  \n",
       "1         7.0  \n",
       "2         6.0  \n",
       "3         7.0  \n",
       "4         2.0  "
      ]
     },
     "execution_count": 7,
     "metadata": {},
     "output_type": "execute_result"
    }
   ],
   "source": [
    "data.head()"
   ]
  },
  {
   "cell_type": "code",
   "execution_count": 30,
   "metadata": {},
   "outputs": [],
   "source": [
    "data=pd.read_csv('new_bugs.csv') "
   ]
  },
  {
   "cell_type": "code",
   "execution_count": 31,
   "metadata": {},
   "outputs": [],
   "source": [
    "data['bugs_mask'] = data.bugs_area > 3 # (filter small artifacts)\n"
   ]
  },
  {
   "cell_type": "code",
   "execution_count": 32,
   "metadata": {},
   "outputs": [
    {
     "data": {
      "text/plain": [
       "7609"
      ]
     },
     "execution_count": 32,
     "metadata": {},
     "output_type": "execute_result"
    }
   ],
   "source": [
    "data.bugs_mask.sum()"
   ]
  },
  {
   "cell_type": "code",
   "execution_count": 33,
   "metadata": {},
   "outputs": [
    {
     "data": {
      "text/plain": [
       "8846"
      ]
     },
     "execution_count": 33,
     "metadata": {},
     "output_type": "execute_result"
    }
   ],
   "source": [
    "data.wfall_mask.sum()"
   ]
  },
  {
   "cell_type": "code",
   "execution_count": 34,
   "metadata": {},
   "outputs": [
    {
     "data": {
      "text/html": [
       "<div>\n",
       "<style scoped>\n",
       "    .dataframe tbody tr th:only-of-type {\n",
       "        vertical-align: middle;\n",
       "    }\n",
       "\n",
       "    .dataframe tbody tr th {\n",
       "        vertical-align: top;\n",
       "    }\n",
       "\n",
       "    .dataframe thead th {\n",
       "        text-align: right;\n",
       "    }\n",
       "</style>\n",
       "<table border=\"1\" class=\"dataframe\">\n",
       "  <thead>\n",
       "    <tr style=\"text-align: right;\">\n",
       "      <th></th>\n",
       "      <th>Unnamed: 0</th>\n",
       "      <th>wfall_mask</th>\n",
       "      <th>bugs_area</th>\n",
       "      <th>wfall_area</th>\n",
       "      <th>lats</th>\n",
       "      <th>lons</th>\n",
       "      <th>aspect</th>\n",
       "      <th>curvature</th>\n",
       "      <th>elevation</th>\n",
       "      <th>morphology</th>\n",
       "      <th>slope</th>\n",
       "      <th>tree_cover</th>\n",
       "      <th>vegetation</th>\n",
       "      <th>bugs_mask</th>\n",
       "    </tr>\n",
       "  </thead>\n",
       "  <tbody>\n",
       "    <tr>\n",
       "      <th>0</th>\n",
       "      <td>0</td>\n",
       "      <td>False</td>\n",
       "      <td>0.000000</td>\n",
       "      <td>0.0</td>\n",
       "      <td>4.869491e+06</td>\n",
       "      <td>389274.551581</td>\n",
       "      <td>15.751173</td>\n",
       "      <td>1.9440</td>\n",
       "      <td>91.0</td>\n",
       "      <td>4.0</td>\n",
       "      <td>18.188120</td>\n",
       "      <td>90.0</td>\n",
       "      <td>7.0</td>\n",
       "      <td>False</td>\n",
       "    </tr>\n",
       "    <tr>\n",
       "      <th>1</th>\n",
       "      <td>1</td>\n",
       "      <td>False</td>\n",
       "      <td>0.000000</td>\n",
       "      <td>0.0</td>\n",
       "      <td>4.870436e+06</td>\n",
       "      <td>392102.110644</td>\n",
       "      <td>119.054604</td>\n",
       "      <td>0.3888</td>\n",
       "      <td>130.0</td>\n",
       "      <td>7.0</td>\n",
       "      <td>2.390084</td>\n",
       "      <td>85.0</td>\n",
       "      <td>7.0</td>\n",
       "      <td>False</td>\n",
       "    </tr>\n",
       "    <tr>\n",
       "      <th>2</th>\n",
       "      <td>2</td>\n",
       "      <td>False</td>\n",
       "      <td>28.142484</td>\n",
       "      <td>0.0</td>\n",
       "      <td>4.870536e+06</td>\n",
       "      <td>394316.944179</td>\n",
       "      <td>343.610474</td>\n",
       "      <td>0.2592</td>\n",
       "      <td>179.0</td>\n",
       "      <td>5.0</td>\n",
       "      <td>8.176078</td>\n",
       "      <td>90.0</td>\n",
       "      <td>6.0</td>\n",
       "      <td>True</td>\n",
       "    </tr>\n",
       "    <tr>\n",
       "      <th>3</th>\n",
       "      <td>3</td>\n",
       "      <td>False</td>\n",
       "      <td>0.000000</td>\n",
       "      <td>0.0</td>\n",
       "      <td>4.868801e+06</td>\n",
       "      <td>390510.587170</td>\n",
       "      <td>129.173660</td>\n",
       "      <td>-0.2592</td>\n",
       "      <td>126.0</td>\n",
       "      <td>8.0</td>\n",
       "      <td>15.769171</td>\n",
       "      <td>90.0</td>\n",
       "      <td>7.0</td>\n",
       "      <td>False</td>\n",
       "    </tr>\n",
       "    <tr>\n",
       "      <th>4</th>\n",
       "      <td>4</td>\n",
       "      <td>False</td>\n",
       "      <td>0.000000</td>\n",
       "      <td>0.0</td>\n",
       "      <td>4.873620e+06</td>\n",
       "      <td>397572.368528</td>\n",
       "      <td>203.198593</td>\n",
       "      <td>-1.0368</td>\n",
       "      <td>139.0</td>\n",
       "      <td>9.0</td>\n",
       "      <td>3.533500</td>\n",
       "      <td>90.0</td>\n",
       "      <td>2.0</td>\n",
       "      <td>False</td>\n",
       "    </tr>\n",
       "  </tbody>\n",
       "</table>\n",
       "</div>"
      ],
      "text/plain": [
       "   Unnamed: 0  wfall_mask  bugs_area  wfall_area          lats           lons  \\\n",
       "0           0       False   0.000000         0.0  4.869491e+06  389274.551581   \n",
       "1           1       False   0.000000         0.0  4.870436e+06  392102.110644   \n",
       "2           2       False  28.142484         0.0  4.870536e+06  394316.944179   \n",
       "3           3       False   0.000000         0.0  4.868801e+06  390510.587170   \n",
       "4           4       False   0.000000         0.0  4.873620e+06  397572.368528   \n",
       "\n",
       "       aspect  curvature  elevation  morphology      slope  tree_cover  \\\n",
       "0   15.751173     1.9440       91.0         4.0  18.188120        90.0   \n",
       "1  119.054604     0.3888      130.0         7.0   2.390084        85.0   \n",
       "2  343.610474     0.2592      179.0         5.0   8.176078        90.0   \n",
       "3  129.173660    -0.2592      126.0         8.0  15.769171        90.0   \n",
       "4  203.198593    -1.0368      139.0         9.0   3.533500        90.0   \n",
       "\n",
       "   vegetation  bugs_mask  \n",
       "0         7.0      False  \n",
       "1         7.0      False  \n",
       "2         6.0       True  \n",
       "3         7.0      False  \n",
       "4         2.0      False  "
      ]
     },
     "execution_count": 34,
     "metadata": {},
     "output_type": "execute_result"
    }
   ],
   "source": [
    "data.head()"
   ]
  },
  {
   "cell_type": "code",
   "execution_count": 35,
   "metadata": {},
   "outputs": [],
   "source": [
    "os.environ[\"R_LIBS_USER\"] =\"/home/jupyteruser/libs\"\n",
    "os.environ[\"PATH\"] = os.environ[\"PATH\"] + \":/home/jupyteruser/.local/lib/python3.7site-packages\""
   ]
  },
  {
   "cell_type": "markdown",
   "metadata": {},
   "source": [
    "Use Rpy2 bridge to connect to R from Python"
   ]
  },
  {
   "cell_type": "code",
   "execution_count": 36,
   "metadata": {},
   "outputs": [],
   "source": [
    "import rpy2"
   ]
  },
  {
   "cell_type": "code",
   "execution_count": 37,
   "metadata": {},
   "outputs": [],
   "source": [
    "from rpy2.robjects.packages import importr\n",
    "from rpy2.robjects.packages import isinstalled"
   ]
  },
  {
   "cell_type": "code",
   "execution_count": 40,
   "metadata": {},
   "outputs": [
    {
     "data": {
      "text/plain": [
       "True"
      ]
     },
     "execution_count": 40,
     "metadata": {},
     "output_type": "execute_result"
    }
   ],
   "source": [
    "isinstalled(\"spatstat.geom\")"
   ]
  },
  {
   "cell_type": "code",
   "execution_count": 41,
   "metadata": {},
   "outputs": [],
   "source": [
    "sp=importr(\"spatstat.model\")"
   ]
  },
  {
   "cell_type": "code",
   "execution_count": 42,
   "metadata": {},
   "outputs": [],
   "source": [
    "from rpy2.robjects import robject as ro"
   ]
  },
  {
   "cell_type": "code",
   "execution_count": 43,
   "metadata": {},
   "outputs": [],
   "source": [
    "sps = importr('spatstat')"
   ]
  },
  {
   "cell_type": "code",
   "execution_count": 44,
   "metadata": {},
   "outputs": [],
   "source": [
    "sp_geom = importr('spatstat.geom')"
   ]
  },
  {
   "cell_type": "code",
   "execution_count": 45,
   "metadata": {},
   "outputs": [],
   "source": [
    "sp_data = importr('spatstat.data')"
   ]
  },
  {
   "cell_type": "code",
   "execution_count": 46,
   "metadata": {},
   "outputs": [],
   "source": [
    "from rpy2.robjects.vectors import FloatVector, FactorVector, StrVector"
   ]
  },
  {
   "cell_type": "code",
   "execution_count": 47,
   "metadata": {},
   "outputs": [],
   "source": [
    "sv = StrVector('abab')"
   ]
  },
  {
   "cell_type": "code",
   "execution_count": 48,
   "metadata": {},
   "outputs": [],
   "source": [
    "pts = data[(data.bugs_mask | data.wfall_mask) & ~(data.bugs_mask * data.wfall_mask)]"
   ]
  },
  {
   "cell_type": "code",
   "execution_count": 49,
   "metadata": {},
   "outputs": [
    {
     "data": {
      "text/html": [
       "<div>\n",
       "<style scoped>\n",
       "    .dataframe tbody tr th:only-of-type {\n",
       "        vertical-align: middle;\n",
       "    }\n",
       "\n",
       "    .dataframe tbody tr th {\n",
       "        vertical-align: top;\n",
       "    }\n",
       "\n",
       "    .dataframe thead th {\n",
       "        text-align: right;\n",
       "    }\n",
       "</style>\n",
       "<table border=\"1\" class=\"dataframe\">\n",
       "  <thead>\n",
       "    <tr style=\"text-align: right;\">\n",
       "      <th></th>\n",
       "      <th>Unnamed: 0</th>\n",
       "      <th>wfall_mask</th>\n",
       "      <th>bugs_area</th>\n",
       "      <th>wfall_area</th>\n",
       "      <th>lats</th>\n",
       "      <th>lons</th>\n",
       "      <th>aspect</th>\n",
       "      <th>curvature</th>\n",
       "      <th>elevation</th>\n",
       "      <th>morphology</th>\n",
       "      <th>slope</th>\n",
       "      <th>tree_cover</th>\n",
       "      <th>vegetation</th>\n",
       "      <th>bugs_mask</th>\n",
       "    </tr>\n",
       "  </thead>\n",
       "  <tbody>\n",
       "    <tr>\n",
       "      <th>2</th>\n",
       "      <td>2</td>\n",
       "      <td>False</td>\n",
       "      <td>28.142484</td>\n",
       "      <td>0.000000</td>\n",
       "      <td>4.870536e+06</td>\n",
       "      <td>394316.944179</td>\n",
       "      <td>343.610474</td>\n",
       "      <td>0.2592</td>\n",
       "      <td>179.0</td>\n",
       "      <td>5.0</td>\n",
       "      <td>8.176078</td>\n",
       "      <td>90.0</td>\n",
       "      <td>6.0</td>\n",
       "      <td>True</td>\n",
       "    </tr>\n",
       "    <tr>\n",
       "      <th>49</th>\n",
       "      <td>49</td>\n",
       "      <td>True</td>\n",
       "      <td>0.000000</td>\n",
       "      <td>104728.953615</td>\n",
       "      <td>4.867362e+06</td>\n",
       "      <td>392057.218916</td>\n",
       "      <td>84.173660</td>\n",
       "      <td>-0.6480</td>\n",
       "      <td>103.0</td>\n",
       "      <td>8.0</td>\n",
       "      <td>11.292312</td>\n",
       "      <td>85.0</td>\n",
       "      <td>2.0</td>\n",
       "      <td>False</td>\n",
       "    </tr>\n",
       "    <tr>\n",
       "      <th>57</th>\n",
       "      <td>57</td>\n",
       "      <td>True</td>\n",
       "      <td>0.000000</td>\n",
       "      <td>12512.048698</td>\n",
       "      <td>4.866879e+06</td>\n",
       "      <td>390532.193515</td>\n",
       "      <td>198.434952</td>\n",
       "      <td>0.1296</td>\n",
       "      <td>38.0</td>\n",
       "      <td>3.0</td>\n",
       "      <td>2.202518</td>\n",
       "      <td>85.0</td>\n",
       "      <td>7.0</td>\n",
       "      <td>False</td>\n",
       "    </tr>\n",
       "    <tr>\n",
       "      <th>63</th>\n",
       "      <td>63</td>\n",
       "      <td>False</td>\n",
       "      <td>76.730757</td>\n",
       "      <td>0.000000</td>\n",
       "      <td>4.875025e+06</td>\n",
       "      <td>396392.645221</td>\n",
       "      <td>104.620872</td>\n",
       "      <td>-0.1296</td>\n",
       "      <td>102.0</td>\n",
       "      <td>5.0</td>\n",
       "      <td>10.908722</td>\n",
       "      <td>86.0</td>\n",
       "      <td>6.0</td>\n",
       "      <td>True</td>\n",
       "    </tr>\n",
       "    <tr>\n",
       "      <th>67</th>\n",
       "      <td>67</td>\n",
       "      <td>False</td>\n",
       "      <td>0.000000</td>\n",
       "      <td>0.000000</td>\n",
       "      <td>4.863807e+06</td>\n",
       "      <td>394952.384399</td>\n",
       "      <td>246.037506</td>\n",
       "      <td>0.6480</td>\n",
       "      <td>92.0</td>\n",
       "      <td>6.0</td>\n",
       "      <td>4.565701</td>\n",
       "      <td>82.0</td>\n",
       "      <td>7.0</td>\n",
       "      <td>True</td>\n",
       "    </tr>\n",
       "    <tr>\n",
       "      <th>...</th>\n",
       "      <td>...</td>\n",
       "      <td>...</td>\n",
       "      <td>...</td>\n",
       "      <td>...</td>\n",
       "      <td>...</td>\n",
       "      <td>...</td>\n",
       "      <td>...</td>\n",
       "      <td>...</td>\n",
       "      <td>...</td>\n",
       "      <td>...</td>\n",
       "      <td>...</td>\n",
       "      <td>...</td>\n",
       "      <td>...</td>\n",
       "      <td>...</td>\n",
       "    </tr>\n",
       "    <tr>\n",
       "      <th>199910</th>\n",
       "      <td>199910</td>\n",
       "      <td>False</td>\n",
       "      <td>403.537539</td>\n",
       "      <td>0.000000</td>\n",
       "      <td>4.872666e+06</td>\n",
       "      <td>396674.956600</td>\n",
       "      <td>344.357758</td>\n",
       "      <td>0.1296</td>\n",
       "      <td>211.0</td>\n",
       "      <td>6.0</td>\n",
       "      <td>6.008224</td>\n",
       "      <td>84.0</td>\n",
       "      <td>6.0</td>\n",
       "      <td>True</td>\n",
       "    </tr>\n",
       "    <tr>\n",
       "      <th>199917</th>\n",
       "      <td>199917</td>\n",
       "      <td>True</td>\n",
       "      <td>0.000000</td>\n",
       "      <td>453.689831</td>\n",
       "      <td>4.864553e+06</td>\n",
       "      <td>394753.442354</td>\n",
       "      <td>196.189209</td>\n",
       "      <td>0.6480</td>\n",
       "      <td>112.0</td>\n",
       "      <td>3.0</td>\n",
       "      <td>7.455642</td>\n",
       "      <td>86.0</td>\n",
       "      <td>7.0</td>\n",
       "      <td>False</td>\n",
       "    </tr>\n",
       "    <tr>\n",
       "      <th>199950</th>\n",
       "      <td>199950</td>\n",
       "      <td>True</td>\n",
       "      <td>0.000000</td>\n",
       "      <td>569.977484</td>\n",
       "      <td>4.867821e+06</td>\n",
       "      <td>395783.150382</td>\n",
       "      <td>241.927521</td>\n",
       "      <td>0.1296</td>\n",
       "      <td>208.0</td>\n",
       "      <td>5.0</td>\n",
       "      <td>7.848073</td>\n",
       "      <td>97.0</td>\n",
       "      <td>6.0</td>\n",
       "      <td>False</td>\n",
       "    </tr>\n",
       "    <tr>\n",
       "      <th>199967</th>\n",
       "      <td>199967</td>\n",
       "      <td>True</td>\n",
       "      <td>0.000000</td>\n",
       "      <td>1349.946770</td>\n",
       "      <td>4.865495e+06</td>\n",
       "      <td>392813.161695</td>\n",
       "      <td>131.185928</td>\n",
       "      <td>0.1296</td>\n",
       "      <td>94.0</td>\n",
       "      <td>5.0</td>\n",
       "      <td>4.926170</td>\n",
       "      <td>85.0</td>\n",
       "      <td>7.0</td>\n",
       "      <td>False</td>\n",
       "    </tr>\n",
       "    <tr>\n",
       "      <th>199994</th>\n",
       "      <td>199994</td>\n",
       "      <td>False</td>\n",
       "      <td>230.480966</td>\n",
       "      <td>0.000000</td>\n",
       "      <td>4.873573e+06</td>\n",
       "      <td>395331.497683</td>\n",
       "      <td>249.443954</td>\n",
       "      <td>0.1296</td>\n",
       "      <td>143.0</td>\n",
       "      <td>5.0</td>\n",
       "      <td>15.488203</td>\n",
       "      <td>90.0</td>\n",
       "      <td>6.0</td>\n",
       "      <td>True</td>\n",
       "    </tr>\n",
       "  </tbody>\n",
       "</table>\n",
       "<p>16095 rows × 14 columns</p>\n",
       "</div>"
      ],
      "text/plain": [
       "        Unnamed: 0  wfall_mask   bugs_area     wfall_area          lats  \\\n",
       "2                2       False   28.142484       0.000000  4.870536e+06   \n",
       "49              49        True    0.000000  104728.953615  4.867362e+06   \n",
       "57              57        True    0.000000   12512.048698  4.866879e+06   \n",
       "63              63       False   76.730757       0.000000  4.875025e+06   \n",
       "67              67       False    0.000000       0.000000  4.863807e+06   \n",
       "...            ...         ...         ...            ...           ...   \n",
       "199910      199910       False  403.537539       0.000000  4.872666e+06   \n",
       "199917      199917        True    0.000000     453.689831  4.864553e+06   \n",
       "199950      199950        True    0.000000     569.977484  4.867821e+06   \n",
       "199967      199967        True    0.000000    1349.946770  4.865495e+06   \n",
       "199994      199994       False  230.480966       0.000000  4.873573e+06   \n",
       "\n",
       "                 lons      aspect  curvature  elevation  morphology  \\\n",
       "2       394316.944179  343.610474     0.2592      179.0         5.0   \n",
       "49      392057.218916   84.173660    -0.6480      103.0         8.0   \n",
       "57      390532.193515  198.434952     0.1296       38.0         3.0   \n",
       "63      396392.645221  104.620872    -0.1296      102.0         5.0   \n",
       "67      394952.384399  246.037506     0.6480       92.0         6.0   \n",
       "...               ...         ...        ...        ...         ...   \n",
       "199910  396674.956600  344.357758     0.1296      211.0         6.0   \n",
       "199917  394753.442354  196.189209     0.6480      112.0         3.0   \n",
       "199950  395783.150382  241.927521     0.1296      208.0         5.0   \n",
       "199967  392813.161695  131.185928     0.1296       94.0         5.0   \n",
       "199994  395331.497683  249.443954     0.1296      143.0         5.0   \n",
       "\n",
       "            slope  tree_cover  vegetation  bugs_mask  \n",
       "2        8.176078        90.0         6.0       True  \n",
       "49      11.292312        85.0         2.0      False  \n",
       "57       2.202518        85.0         7.0      False  \n",
       "63      10.908722        86.0         6.0       True  \n",
       "67       4.565701        82.0         7.0       True  \n",
       "...           ...         ...         ...        ...  \n",
       "199910   6.008224        84.0         6.0       True  \n",
       "199917   7.455642        86.0         7.0      False  \n",
       "199950   7.848073        97.0         6.0      False  \n",
       "199967   4.926170        85.0         7.0      False  \n",
       "199994  15.488203        90.0         6.0       True  \n",
       "\n",
       "[16095 rows x 14 columns]"
      ]
     },
     "execution_count": 49,
     "metadata": {},
     "output_type": "execute_result"
    }
   ],
   "source": [
    "pts"
   ]
  },
  {
   "cell_type": "code",
   "execution_count": 50,
   "metadata": {},
   "outputs": [
    {
     "data": {
      "text/html": [
       "<div>\n",
       "<style scoped>\n",
       "    .dataframe tbody tr th:only-of-type {\n",
       "        vertical-align: middle;\n",
       "    }\n",
       "\n",
       "    .dataframe tbody tr th {\n",
       "        vertical-align: top;\n",
       "    }\n",
       "\n",
       "    .dataframe thead th {\n",
       "        text-align: right;\n",
       "    }\n",
       "</style>\n",
       "<table border=\"1\" class=\"dataframe\">\n",
       "  <thead>\n",
       "    <tr style=\"text-align: right;\">\n",
       "      <th></th>\n",
       "      <th>Unnamed: 0</th>\n",
       "      <th>wfall_mask</th>\n",
       "      <th>bugs_area</th>\n",
       "      <th>wfall_area</th>\n",
       "      <th>lats</th>\n",
       "      <th>lons</th>\n",
       "      <th>aspect</th>\n",
       "      <th>curvature</th>\n",
       "      <th>elevation</th>\n",
       "      <th>morphology</th>\n",
       "      <th>slope</th>\n",
       "      <th>tree_cover</th>\n",
       "      <th>vegetation</th>\n",
       "      <th>bugs_mask</th>\n",
       "    </tr>\n",
       "  </thead>\n",
       "  <tbody>\n",
       "    <tr>\n",
       "      <th>2</th>\n",
       "      <td>2</td>\n",
       "      <td>False</td>\n",
       "      <td>28.142484</td>\n",
       "      <td>0.000000</td>\n",
       "      <td>4.870536e+06</td>\n",
       "      <td>394316.944179</td>\n",
       "      <td>343.610474</td>\n",
       "      <td>0.2592</td>\n",
       "      <td>179.0</td>\n",
       "      <td>5.0</td>\n",
       "      <td>8.176078</td>\n",
       "      <td>90.0</td>\n",
       "      <td>6.0</td>\n",
       "      <td>True</td>\n",
       "    </tr>\n",
       "    <tr>\n",
       "      <th>49</th>\n",
       "      <td>49</td>\n",
       "      <td>True</td>\n",
       "      <td>0.000000</td>\n",
       "      <td>104728.953615</td>\n",
       "      <td>4.867362e+06</td>\n",
       "      <td>392057.218916</td>\n",
       "      <td>84.173660</td>\n",
       "      <td>-0.6480</td>\n",
       "      <td>103.0</td>\n",
       "      <td>8.0</td>\n",
       "      <td>11.292312</td>\n",
       "      <td>85.0</td>\n",
       "      <td>2.0</td>\n",
       "      <td>False</td>\n",
       "    </tr>\n",
       "    <tr>\n",
       "      <th>57</th>\n",
       "      <td>57</td>\n",
       "      <td>True</td>\n",
       "      <td>0.000000</td>\n",
       "      <td>12512.048698</td>\n",
       "      <td>4.866879e+06</td>\n",
       "      <td>390532.193515</td>\n",
       "      <td>198.434952</td>\n",
       "      <td>0.1296</td>\n",
       "      <td>38.0</td>\n",
       "      <td>3.0</td>\n",
       "      <td>2.202518</td>\n",
       "      <td>85.0</td>\n",
       "      <td>7.0</td>\n",
       "      <td>False</td>\n",
       "    </tr>\n",
       "    <tr>\n",
       "      <th>63</th>\n",
       "      <td>63</td>\n",
       "      <td>False</td>\n",
       "      <td>76.730757</td>\n",
       "      <td>0.000000</td>\n",
       "      <td>4.875025e+06</td>\n",
       "      <td>396392.645221</td>\n",
       "      <td>104.620872</td>\n",
       "      <td>-0.1296</td>\n",
       "      <td>102.0</td>\n",
       "      <td>5.0</td>\n",
       "      <td>10.908722</td>\n",
       "      <td>86.0</td>\n",
       "      <td>6.0</td>\n",
       "      <td>True</td>\n",
       "    </tr>\n",
       "    <tr>\n",
       "      <th>67</th>\n",
       "      <td>67</td>\n",
       "      <td>False</td>\n",
       "      <td>0.000000</td>\n",
       "      <td>0.000000</td>\n",
       "      <td>4.863807e+06</td>\n",
       "      <td>394952.384399</td>\n",
       "      <td>246.037506</td>\n",
       "      <td>0.6480</td>\n",
       "      <td>92.0</td>\n",
       "      <td>6.0</td>\n",
       "      <td>4.565701</td>\n",
       "      <td>82.0</td>\n",
       "      <td>7.0</td>\n",
       "      <td>True</td>\n",
       "    </tr>\n",
       "  </tbody>\n",
       "</table>\n",
       "</div>"
      ],
      "text/plain": [
       "    Unnamed: 0  wfall_mask  bugs_area     wfall_area          lats  \\\n",
       "2            2       False  28.142484       0.000000  4.870536e+06   \n",
       "49          49        True   0.000000  104728.953615  4.867362e+06   \n",
       "57          57        True   0.000000   12512.048698  4.866879e+06   \n",
       "63          63       False  76.730757       0.000000  4.875025e+06   \n",
       "67          67       False   0.000000       0.000000  4.863807e+06   \n",
       "\n",
       "             lons      aspect  curvature  elevation  morphology      slope  \\\n",
       "2   394316.944179  343.610474     0.2592      179.0         5.0   8.176078   \n",
       "49  392057.218916   84.173660    -0.6480      103.0         8.0  11.292312   \n",
       "57  390532.193515  198.434952     0.1296       38.0         3.0   2.202518   \n",
       "63  396392.645221  104.620872    -0.1296      102.0         5.0  10.908722   \n",
       "67  394952.384399  246.037506     0.6480       92.0         6.0   4.565701   \n",
       "\n",
       "    tree_cover  vegetation  bugs_mask  \n",
       "2         90.0         6.0       True  \n",
       "49        85.0         2.0      False  \n",
       "57        85.0         7.0      False  \n",
       "63        86.0         6.0       True  \n",
       "67        82.0         7.0       True  "
      ]
     },
     "execution_count": 50,
     "metadata": {},
     "output_type": "execute_result"
    }
   ],
   "source": [
    "pts.head()"
   ]
  },
  {
   "cell_type": "code",
   "execution_count": 51,
   "metadata": {},
   "outputs": [],
   "source": [
    "x = FloatVector(pts.lats.values)\n",
    "y = FloatVector(pts.lons.values)\n",
    "mark_pts = ['w' if item.wfall_mask is True else 'b' for _, item in pts.iterrows()]\n"
   ]
  },
  {
   "cell_type": "code",
   "execution_count": 52,
   "metadata": {},
   "outputs": [],
   "source": [
    "only_bugs_lats = FloatVector(pts.lats.values[pts.bugs_mask])\n",
    "only_bugs_lons = FloatVector(pts.lons.values[pts.bugs_mask])"
   ]
  },
  {
   "cell_type": "code",
   "execution_count": 53,
   "metadata": {},
   "outputs": [],
   "source": [
    "marks = FactorVector(mark_pts)\n",
    "pp2 = sp_geom.ppp(x, y, window=sp_geom.ripras(only_bugs_lats, only_bugs_lons), marks=marks)"
   ]
  },
  {
   "cell_type": "code",
   "execution_count": 54,
   "metadata": {},
   "outputs": [
    {
     "data": {
      "text/html": [
       "\n",
       "        <span>ListVector with 6 elements.</span>\n",
       "        <table>\n",
       "        <tbody>\n",
       "        \n",
       "          <tr>\n",
       "            <th>\n",
       "            window\n",
       "            </th>\n",
       "            <td>\n",
       "            <rpy2.rinterface.ListSexpVector object at 0x7f7cd3806a88> [RTYPES.VECSXP]\n",
       "            </td>\n",
       "          </tr>\n",
       "        \n",
       "          <tr>\n",
       "            <th>\n",
       "            n\n",
       "            </th>\n",
       "            <td>\n",
       "            <rpy2.rinterface.IntSexpVector object at 0x7f7cd37fe988> [RTYPES.INTSXP]\n",
       "            </td>\n",
       "          </tr>\n",
       "        \n",
       "          <tr>\n",
       "            <th>\n",
       "            x\n",
       "            </th>\n",
       "            <td>\n",
       "            <rpy2.rinterface.FloatSexpVector object at 0x7f7cd37fea88> [RTYPES.REALSXP]\n",
       "            </td>\n",
       "          </tr>\n",
       "        \n",
       "          <tr>\n",
       "            <th>\n",
       "            y\n",
       "            </th>\n",
       "            <td>\n",
       "            <rpy2.rinterface.FloatSexpVector object at 0x7f7cd37fe888> [RTYPES.REALSXP]\n",
       "            </td>\n",
       "          </tr>\n",
       "        \n",
       "          <tr>\n",
       "            <th>\n",
       "            markformat\n",
       "            </th>\n",
       "            <td>\n",
       "            <rpy2.rinterface_lib.sexp.StrSexpVector object at 0x7f7cd380f488> [RTYPES.STRSXP]\n",
       "            </td>\n",
       "          </tr>\n",
       "        \n",
       "          <tr>\n",
       "            <th>\n",
       "            marks\n",
       "            </th>\n",
       "            <td>\n",
       "            <rpy2.rinterface.IntSexpVector object at 0x7f7cd380fd48> [RTYPES.INTSXP]\n",
       "            </td>\n",
       "          </tr>\n",
       "        \n",
       "        </tbody>\n",
       "        </table>\n",
       "        "
      ],
      "text/plain": [
       "R object with classes: ('ppp',) mapped to:\n",
       "[ListS..., IntSe..., Float..., Float..., StrSe..., IntSe...]\n",
       "  window: <class 'rpy2.rinterface.ListSexpVector'>\n",
       "  <rpy2.rinterface.ListSexpVector object at 0x7f7cd3803dc8> [RTYPES.VECSXP]\n",
       "  n: <class 'rpy2.rinterface.IntSexpVector'>\n",
       "  <rpy2.rinterface.IntSexpVector object at 0x7f7cd3803ec8> [RTYPES.INTSXP]\n",
       "  x: <class 'rpy2.rinterface.FloatSexpVector'>\n",
       "  <rpy2.rinterface.FloatSexpVector object at 0x7f7cd3801e08> [RTYPES.REALSXP]\n",
       "  y: <class 'rpy2.rinterface.FloatSexpVector'>\n",
       "  <rpy2.rinterface.FloatSexpVector object at 0x7f7cd3803288> [RTYPES.REALSXP]\n",
       "  markformat: <class 'rpy2.rinterface_lib.sexp.StrSexpVector'>\n",
       "  <rpy2.rinterface_lib.sexp.StrSexpVector object at 0x7f7cd3803ec8> [RTYPES.STRSXP]\n",
       "  marks: <class 'rpy2.rinterface.IntSexpVector'>\n",
       "  <rpy2.rinterface.IntSexpVector object at 0x7f7cd37feb08> [RTYPES.INTSXP]"
      ]
     },
     "execution_count": 54,
     "metadata": {},
     "output_type": "execute_result"
    }
   ],
   "source": [
    "pp2"
   ]
  },
  {
   "cell_type": "code",
   "execution_count": 55,
   "metadata": {},
   "outputs": [],
   "source": [
    "sp_ex = importr('spatstat.explore')"
   ]
  },
  {
   "cell_type": "markdown",
   "metadata": {},
   "source": [
    "Compute all pair combinations K-Ripley: (bugs, bugs), (bugs, wind-fall), (wind-fall, bugs), (wind-fall,wind-fall)"
   ]
  },
  {
   "cell_type": "code",
   "execution_count": 56,
   "metadata": {},
   "outputs": [],
   "source": [
    "res=sp_ex.alltypes(pp2, fun=\"Kcross\", envelope=True)"
   ]
  },
  {
   "cell_type": "code",
   "execution_count": 57,
   "metadata": {},
   "outputs": [
    {
     "data": {
      "text/plain": [
       "4"
      ]
     },
     "execution_count": 57,
     "metadata": {},
     "output_type": "execute_result"
    }
   ],
   "source": [
    "len(res.rx2['fns'])"
   ]
  },
  {
   "cell_type": "code",
   "execution_count": 58,
   "metadata": {},
   "outputs": [],
   "source": [
    "res_dfs = []\n",
    "for i in range(0, 4):\n",
    "    df = res.rx2['fns'][i]\n",
    "    \n",
    "    res_dfs.append(pd.DataFrame({'theo':np.array(df.rx2['theo']),'obs':np.array(df.rx2['obs']), 'r':np.array(df.rx2['r']), 'lo':np.array(df.rx2['lo']), 'hi':np.array(df.rx2['hi']) }))\n",
    "    res_dfs[-1].to_csv(f'output{i}.csv')"
   ]
  },
  {
   "cell_type": "code",
   "execution_count": 59,
   "metadata": {},
   "outputs": [],
   "source": [
    "from matplotlib import pyplot as plt\n"
   ]
  },
  {
   "cell_type": "code",
   "execution_count": 60,
   "metadata": {},
   "outputs": [
    {
     "data": {
      "image/png": "[encoded data removed]",
      "text/plain": [
       "<Figure size 720x720 with 1 Axes>"
      ]
     },
     "metadata": {
      "needs_background": "light"
     },
     "output_type": "display_data"
    },
    {
     "data": {
      "image/png": "[encoded data removed]",
      "text/plain": [
       "<Figure size 720x720 with 1 Axes>"
      ]
     },
     "metadata": {
      "needs_background": "light"
     },
     "output_type": "display_data"
    },
    {
     "data": {
      "image/png": "[encoded data removed]",
      "text/plain": [
       "<Figure size 720x720 with 1 Axes>"
      ]
     },
     "metadata": {
      "needs_background": "light"
     },
     "output_type": "display_data"
    },
    {
     "data": {
      "image/png": "[encoded data removed]",
      "text/plain": [
       "<Figure size 720x720 with 1 Axes>"
      ]
     },
     "metadata": {
      "needs_background": "light"
     },
     "output_type": "display_data"
    }
   ],
   "source": [
    "for ind, df in enumerate(res_dfs):\n",
    "    plt.figure(figsize=(10, 10))\n",
    "    plt.plot(df.r, df.theo-df.theo, 'r', df.r, df.lo-df.theo, 'b-', df.r, df.hi-df.theo, 'b-', df.r,df.obs-df.theo, 'k')\n",
    "    plt.title(ind)\n",
    "    plt.gcf().savefig(f\"K_L{ind}.png\", dpi=300)\n",
    "    "
   ]
  },
  {
   "cell_type": "code",
   "execution_count": 61,
   "metadata": {},
   "outputs": [
    {
     "name": "stderr",
     "output_type": "stream",
     "text": [
      "/home/jupyteruser/.local/lib/python3.7/site-packages/pandas/core/arraylike.py:364: RuntimeWarning: divide by zero encountered in log\n",
      "  result = getattr(ufunc, method)(*inputs, **kwargs)\n"
     ]
    },
    {
     "data": {
      "image/png": "[encoded data removed]",
      "text/plain": [
       "<Figure size 720x720 with 1 Axes>"
      ]
     },
     "metadata": {
      "needs_background": "light"
     },
     "output_type": "display_data"
    },
    {
     "data": {
      "image/png": "[encoded data removed]",
      "text/plain": [
       "<Figure size 720x720 with 1 Axes>"
      ]
     },
     "metadata": {
      "needs_background": "light"
     },
     "output_type": "display_data"
    },
    {
     "data": {
      "image/png": "[encoded data removed]",
      "text/plain": [
       "<Figure size 720x720 with 1 Axes>"
      ]
     },
     "metadata": {
      "needs_background": "light"
     },
     "output_type": "display_data"
    },
    {
     "data": {
      "image/png": "[encoded data removed]",
      "text/plain": [
       "<Figure size 720x720 with 1 Axes>"
      ]
     },
     "metadata": {
      "needs_background": "light"
     },
     "output_type": "display_data"
    }
   ],
   "source": [
    "for ind, df in enumerate(res_dfs):\n",
    "    plt.figure(figsize=(10, 10))\n",
    "    plt.plot(np.log(df.r), df.theo, 'r', np.log(df.r), df.lo, 'b-', np.log(df.r), df.hi, 'b-', np.log(df.r), df.obs, 'k')\n",
    "    plt.title(ind)\n",
    "    plt.gcf().savefig(f\"K_L{ind}.png\", dpi=300)"
   ]
  },
  {
   "cell_type": "code",
   "execution_count": 62,
   "metadata": {},
   "outputs": [],
   "source": [
    "res_dfs[1].to_csv('result.csv')\n"
   ]
  },
  {
   "cell_type": "markdown",
   "metadata": {},
   "source": [
    "Compute envelops for K-estimations"
   ]
  },
  {
   "cell_type": "code",
   "execution_count": 73,
   "metadata": {},
   "outputs": [
    {
     "name": "stdout",
     "output_type": "stream",
     "text": [
      "Generating 99 simulations of CSR  ...\n",
      "1, 2,  [etd 10:50] 3,  [etd 10:53] 4,\n",
      " [etd 10:36] 5,  [etd 10:59] 6,  [etd 11:08] 7,  [etd 11:14] 8,\n",
      " [etd 11:14] 9,  [etd 11:04] 10,  [etd 10:57] 11,  [etd 11:00] 12,\n",
      " [etd 10:56] 13,  [etd 11:00] 14,  [etd 10:53] 15,  [etd 10:48] 16,\n",
      " [etd 10:40] 17,  [etd 10:35] 18,  [etd 10:28] 19,  [etd 10:21] 20,\n",
      " [etd 10:11] 21,  [etd 10:06] 22,  [etd 10:00] 23,  [etd 9:53] 24,\n",
      " [etd 9:47] 25,  [etd 9:40] 26,  [etd 9:36] 27,  [etd 9:29] 28,\n",
      " [etd 9:23] 29,  [etd 9:16] 30,  [etd 9:09] 31,  [etd 9:02] 32,\n",
      " [etd 8:56] 33,  [etd 8:47] 34,  [etd 8:39] 35,  [etd 8:28] 36,\n",
      " [etd 8:23] 37,  [etd 8:14] 38,  [etd 8:06] 39,  [etd 7:59] 40,\n",
      " [etd 7:52] 41,  [etd 7:43] 42,  [etd 7:37] 43,  [etd 7:29] 44,\n",
      " [etd 7:21] 45,  [etd 7:14] 46,  [etd 7:07] 47,  [etd 7:00] 48,\n",
      " [etd 6:51] 49,  [etd 6:43] 50,  [etd 6:35] 51,  [etd 6:26] 52,\n",
      " [etd 6:18] 53,  [etd 6:10] 54,  [etd 6:03] 55,  [etd 5:55] 56,\n",
      " [etd 5:47] 57,  [etd 5:39] 58,  [etd 5:31] 59,  [etd 5:23] 60,\n",
      " [etd 5:14] 61,  [etd 5:07] 62,  [etd 4:59] 63,  [etd 4:51] 64,\n",
      " [etd 4:44] 65,  [etd 4:36] 66,  [etd 4:28] 67,  [etd 4:20] 68,\n",
      " [etd 4:12] 69,  [etd 4:04] 70,  [etd 3:56] 71,  [etd 3:48] 72,\n",
      " [etd 3:40] 73,  [etd 3:32] 74,  [etd 3:24] 75,  [etd 3:16] 76,\n",
      " [etd 3:07] 77,  [etd 2:59] 78,  [etd 2:51] 79,  [etd 2:43] 80,\n",
      " [etd 2:35] 81,  [etd 2:27] 82,  [etd 2:18] 83,  [etd 2:10] 84,\n",
      " [etd 2:02] 85,  [etd 1:54] 86,  [etd 1:46] 87,  [etd 1:38] 88,\n",
      " [etd 1:29] 89,  [etd 1:21] 90,  [etd 1:13] 91,  [etd 1:05] 92,\n",
      " [etd 57 sec] 93,  [etd 49 sec] 94,  [etd 41 sec] 95,  [etd 32 sec] 96,\n",
      " [etd 24 sec] 97,  [etd 16 sec] 98,  [etd 8 sec]  99.\n",
      "\n",
      "Done.\n"
     ]
    },
    {
     "data": {
      "text/html": [
       "\n",
       "        <span>R/rpy2 DataFrame (513 x 5)</span>\n",
       "        <table>\n",
       "          <thead>\n",
       "            <tr>\n",
       "              \n",
       "              <th>r</th>\n",
       "              \n",
       "              <th>obs</th>\n",
       "              \n",
       "              <th>theo</th>\n",
       "              \n",
       "              <th>lo</th>\n",
       "              \n",
       "              <th>hi</th>\n",
       "              \n",
       "            </tr>\n",
       "          </thead>\n",
       "          <tbody>\n",
       "          \n",
       "          <tr>\n",
       "            \n",
       "            <td>\n",
       "              ...\n",
       "            </td>\n",
       "            \n",
       "            <td>\n",
       "              ...\n",
       "            </td>\n",
       "            \n",
       "            <td>\n",
       "              ...\n",
       "            </td>\n",
       "            \n",
       "            <td>\n",
       "              ...\n",
       "            </td>\n",
       "            \n",
       "            <td>\n",
       "              ...\n",
       "            </td>\n",
       "            \n",
       "          </tr>\n",
       "          \n",
       "          </tbody>\n",
       "        </table>\n",
       "    "
      ],
      "text/plain": [
       "R object with classes: ('envelope', 'fv', 'data.frame') mapped to:\n",
       "[FloatSe..., FloatSe..., FloatSe..., FloatSe..., FloatSe...]\n",
       "  r: <class 'rpy2.rinterface.FloatSexpVector'>\n",
       "  <rpy2.rinterface.FloatSexpVector object at 0x7f7cc27ad748> [RTYPES.REALSXP]\n",
       "  obs: <class 'rpy2.rinterface.FloatSexpVector'>\n",
       "  <rpy2.rinterface.FloatSexpVector object at 0x7f7cc7edd288> [RTYPES.REALSXP]\n",
       "  theo: <class 'rpy2.rinterface.FloatSexpVector'>\n",
       "  <rpy2.rinterface.FloatSexpVector object at 0x7f7cc27ad748> [RTYPES.REALSXP]\n",
       "  lo: <class 'rpy2.rinterface.FloatSexpVector'>\n",
       "  <rpy2.rinterface.FloatSexpVector object at 0x7f7cc7edd208> [RTYPES.REALSXP]\n",
       "  hi: <class 'rpy2.rinterface.FloatSexpVector'>\n",
       "  <rpy2.rinterface.FloatSexpVector object at 0x7f7cc27ad748> [RTYPES.REALSXP]"
      ]
     },
     "execution_count": 73,
     "metadata": {},
     "output_type": "execute_result"
    }
   ],
   "source": [
    "sp_ex.envelope(pp2, sp_ex.Kest)"
   ]
  },
  {
   "cell_type": "code",
   "execution_count": 76,
   "metadata": {},
   "outputs": [],
   "source": [
    "tt=pd.DataFrame({'theo':np.array(df.rx2['theo']),'obs':np.array(df.rx2['obs']), 'r':np.array(df.rx2['r']), 'lo':np.array(df.rx2['lo']), 'hi':np.array(df.rx2['hi']) })"
   ]
  },
  {
   "cell_type": "code",
   "execution_count": 77,
   "metadata": {},
   "outputs": [],
   "source": [
    "df = tt"
   ]
  },
  {
   "cell_type": "code",
   "execution_count": 78,
   "metadata": {},
   "outputs": [
    {
     "data": {
      "text/plain": [
       "[<matplotlib.lines.Line2D at 0x7f7cc28427f0>,\n",
       " <matplotlib.lines.Line2D at 0x7f7cc2842b00>,\n",
       " <matplotlib.lines.Line2D at 0x7f7cc2815eb8>,\n",
       " <matplotlib.lines.Line2D at 0x7f7cc2842d68>]"
      ]
     },
     "execution_count": 78,
     "metadata": {},
     "output_type": "execute_result"
    },
    {
     "data": {
      "image/png": "[encoded data removed]",
      "text/plain": [
       "<Figure size 432x288 with 1 Axes>"
      ]
     },
     "metadata": {
      "needs_background": "light"
     },
     "output_type": "display_data"
    }
   ],
   "source": [
    "plt.plot(df.r, df.theo-df.theo, 'r', df.r, df.lo-df.theo, 'b-', df.r, df.hi-df.theo, 'b-', df.r,df.obs-df.theo, 'k')"
   ]
  },
  {
   "cell_type": "code",
   "execution_count": 79,
   "metadata": {},
   "outputs": [],
   "source": [
    "df.to_csv('kest_wfall.csv')"
   ]
  }
 ],
 "metadata": {
  "kernelspec": {
   "display_name": "Python 3",
   "language": "python",
   "name": "python3"
  },
  "language_info": {
   "codemirror_mode": {
    "name": "ipython",
    "version": 3
   },
   "file_extension": ".py",
   "mimetype": "text/x-python",
   "name": "python",
   "nbconvert_exporter": "python",
   "pygments_lexer": "ipython3",
   "version": "3.7.3"
  }
 },
 "nbformat": 4,
 "nbformat_minor": 2
}
